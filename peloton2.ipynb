{
 "cells": [
  {
   "cell_type": "code",
   "execution_count": 2,
   "metadata": {},
   "outputs": [],
   "source": [
    "import pandas as pd"
   ]
  },
  {
   "cell_type": "code",
   "execution_count": 3,
   "metadata": {},
   "outputs": [],
   "source": [
    "dt = pd.read_csv(\"C:/Users/drewb/Downloads/sampledata.csv\")"
   ]
  },
  {
   "cell_type": "code",
   "execution_count": 5,
   "metadata": {},
   "outputs": [
    {
     "data": {
      "text/plain": [
       "Index(['Unnamed: 0', 'created', 'created_at', 'device_time_created_at',\n",
       "       'device_type', 'effort_zones', 'end_time', 'fitbit_id',\n",
       "       'fitness_discipline', 'has_leaderboard_metrics',\n",
       "       ...\n",
       "       'Avg Resistance', 'Avg Speed', 'Avg Pace', 'Total Output', 'Distance',\n",
       "       'Calories', 'Elevation', 'fixed_created_at', 'fixed_start_time',\n",
       "       'fixed_end_time'],\n",
       "      dtype='object', length=129)"
      ]
     },
     "execution_count": 5,
     "metadata": {},
     "output_type": "execute_result"
    }
   ],
   "source": [
    "dt.columns"
   ]
  },
  {
   "cell_type": "code",
   "execution_count": 41,
   "metadata": {},
   "outputs": [
    {
     "data": {
      "text/plain": [
       "['cycling', 'running', 'stretching']"
      ]
     },
     "execution_count": 41,
     "metadata": {},
     "output_type": "execute_result"
    }
   ],
   "source": [
    "dt2 = dt[['created_at', 'fitness_discipline']].groupby(['fitness_discipline']).agg({'fitness_discipline' :['count']})\n",
    "dt2.columns = dt2.columns.droplevel(0)\n",
    "dt2.reset_index(inplace=True)\n",
    "\n",
    "if len(dt2>2):\n",
    "    top = dt2.nlargest(3, 'count')\n",
    "    top = top['fitness_discipline'].tolist()\n",
    "elif len(dt2>1):\n",
    "    top = dt2.nlargest(2, 'count')\n",
    "    top = top['fitness_discipline'].tolist()\n",
    "else:\n",
    "    top = dt2.nlargest(1, 'count')\n",
    "    top = top['fitness_discipline'].tolist()\n",
    "\n",
    "top\n",
    "\n",
    "\n",
    "\n"
   ]
  },
  {
   "cell_type": "code",
   "execution_count": 7,
   "metadata": {},
   "outputs": [
    {
     "name": "stdout",
     "output_type": "stream",
     "text": [
      "Unnamed: 0\n",
      "created\n",
      "created_at\n",
      "device_time_created_at\n",
      "device_type\n",
      "effort_zones\n",
      "end_time\n",
      "fitbit_id\n",
      "fitness_discipline\n",
      "has_leaderboard_metrics\n",
      "has_pedaling_metrics\n",
      "id\n",
      "is_total_work_personal_record\n",
      "metrics_type\n",
      "name\n",
      "peloton_id\n",
      "platform\n",
      "ride.class_type_ids\n",
      "ride.content_format\n",
      "ride.content_provider\n",
      "ride.description\n",
      "ride.difficulty_estimate\n",
      "ride.difficulty_level\n",
      "ride.difficulty_rating_avg\n",
      "ride.difficulty_rating_count\n",
      "ride.duration\n",
      "ride.extra_images\n",
      "ride.fitness_discipline\n",
      "ride.fitness_discipline_display_name\n",
      "ride.has_closed_captions\n",
      "ride.has_pedaling_metrics\n",
      "ride.home_peloton_id\n",
      "ride.id\n",
      "ride.image_url\n",
      "ride.instructor\n",
      "ride.instructor.about_image_url\n",
      "ride.instructor.background\n",
      "ride.instructor.bike_instructor_list_display_image_url\n",
      "ride.instructor.bio\n",
      "ride.instructor.coach_type\n",
      "ride.instructor.facebook_fan_page\n",
      "ride.instructor.featured_profile\n",
      "ride.instructor.film_link\n",
      "ride.instructor.first_name\n",
      "ride.instructor.fitness_disciplines\n",
      "ride.instructor.id\n",
      "ride.instructor.image_url\n",
      "ride.instructor.instagram_profile\n",
      "ride.instructor.instructor_hero_image_url\n",
      "ride.instructor.ios_instructor_list_display_image_url\n",
      "ride.instructor.is_filterable\n",
      "ride.instructor.is_instructor_group\n",
      "ride.instructor.is_visible\n",
      "ride.instructor.jumbotron_url\n",
      "ride.instructor.jumbotron_url_dark\n",
      "ride.instructor.jumbotron_url_ios\n",
      "ride.instructor.last_name\n",
      "ride.instructor.life_style_image_url\n",
      "ride.instructor.list_order\n",
      "ride.instructor.music_bio\n",
      "ride.instructor.name\n",
      "ride.instructor.ordered_q_and_as\n",
      "ride.instructor.quote\n",
      "ride.instructor.short_bio\n",
      "ride.instructor.spotify_playlist_uri\n",
      "ride.instructor.strava_profile\n",
      "ride.instructor.twitter_profile\n",
      "ride.instructor.user_id\n",
      "ride.instructor.username\n",
      "ride.instructor.web_instructor_list_display_image_url\n",
      "ride.instructor.web_instructor_list_gif_image_url\n",
      "ride.instructor.workout_share_images\n",
      "ride.instructor_id\n",
      "ride.is_archived\n",
      "ride.is_closed_caption_shown\n",
      "ride.is_explicit\n",
      "ride.is_live_in_studio_only\n",
      "ride.language\n",
      "ride.length\n",
      "ride.live_stream_id\n",
      "ride.live_stream_url\n",
      "ride.location\n",
      "ride.metrics\n",
      "ride.origin_locale\n",
      "ride.original_air_time\n",
      "ride.overall_estimate\n",
      "ride.overall_rating_avg\n",
      "ride.overall_rating_count\n",
      "ride.pedaling_duration\n",
      "ride.pedaling_end_offset\n",
      "ride.pedaling_start_offset\n",
      "ride.rating\n",
      "ride.ride_type_id\n",
      "ride.ride_type_ids\n",
      "ride.sample_vod_stream_url\n",
      "ride.scheduled_start_time\n",
      "ride.series_id\n",
      "ride.sold_out\n",
      "ride.studio_peloton_id\n",
      "ride.title\n",
      "ride.total_in_progress_workouts\n",
      "ride.total_ratings\n",
      "ride.total_workouts\n",
      "ride.vod_stream_id\n",
      "ride.vod_stream_url\n",
      "start_time\n",
      "status\n",
      "strava_id\n",
      "timezone\n",
      "title\n",
      "total_video_buffering_seconds\n",
      "total_video_watch_time_seconds\n",
      "total_work\n",
      "user_id\n",
      "v2_total_video_buffering_seconds\n",
      "v2_total_video_watch_time_seconds\n",
      "workout_type\n",
      "Avg Output\n",
      "Avg Cadence\n",
      "Avg Resistance\n",
      "Avg Speed\n",
      "Avg Pace\n",
      "Total Output\n",
      "Distance\n",
      "Calories\n",
      "Elevation\n",
      "fixed_created_at\n",
      "fixed_start_time\n",
      "fixed_end_time\n"
     ]
    }
   ],
   "source": [
    "for col in dt.columns: \n",
    "    print(col)"
   ]
  }
 ],
 "metadata": {
  "kernelspec": {
   "display_name": "Python 3",
   "language": "python",
   "name": "python3"
  },
  "language_info": {
   "codemirror_mode": {
    "name": "ipython",
    "version": 3
   },
   "file_extension": ".py",
   "mimetype": "text/x-python",
   "name": "python",
   "nbconvert_exporter": "python",
   "pygments_lexer": "ipython3",
   "version": "3.7.3"
  }
 },
 "nbformat": 4,
 "nbformat_minor": 2
}
